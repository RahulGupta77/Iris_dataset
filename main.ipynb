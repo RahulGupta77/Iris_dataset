{
 "cells": [
  {
   "cell_type": "markdown",
   "id": "1ce3b199",
   "metadata": {},
   "source": [
    "\n",
    "#### Training a model using sepal length as feature and sepal width as the label "
   ]
  },
  {
   "cell_type": "code",
   "execution_count": 236,
   "id": "b39bd284",
   "metadata": {},
   "outputs": [],
   "source": [
    "from sklearn import datasets\n",
    "import numpy as np\n",
    "import pandas as pd\n",
    "import matplotlib.pyplot as plt\n",
    "%matplotlib inline\n",
    "\n",
    "iris = datasets.load_iris()"
   ]
  },
  {
   "cell_type": "code",
   "execution_count": 179,
   "id": "26105067",
   "metadata": {},
   "outputs": [
    {
     "data": {
      "text/plain": [
       "['sepal length (cm)',\n",
       " 'sepal width (cm)',\n",
       " 'petal length (cm)',\n",
       " 'petal width (cm)']"
      ]
     },
     "execution_count": 179,
     "metadata": {},
     "output_type": "execute_result"
    }
   ],
   "source": [
    "iris.feature_names"
   ]
  },
  {
   "cell_type": "code",
   "execution_count": 192,
   "id": "d532ffb8",
   "metadata": {},
   "outputs": [],
   "source": [
    "X = np.array(iris.data[:,0]) ## Taking first column (sepal length) as a feature \n",
    "y = np.array(iris.data[:,1]) ## Taking second coloumn (sepal width) as a label"
   ]
  },
  {
   "cell_type": "code",
   "execution_count": 200,
   "id": "0cad8420",
   "metadata": {},
   "outputs": [
    {
     "data": {
      "image/png": "[encoded data removed]",
      "text/plain": [
       "<Figure size 432x288 with 1 Axes>"
      ]
     },
     "metadata": {
      "needs_background": "light"
     },
     "output_type": "display_data"
    }
   ],
   "source": [
    "plt.scatter(X,y)\n",
    "plt.xlabel(\"sepal length in cms\")\n",
    "plt.ylabel(\"sepal width in cms\")\n",
    "\n",
    "plt.show()\n",
    "plt.show()"
   ]
  },
  {
   "cell_type": "code",
   "execution_count": 196,
   "id": "a8f33e00",
   "metadata": {},
   "outputs": [],
   "source": [
    "from sklearn.model_selection import train_test_split\n",
    "\n",
    "X_train, X_test, y_train, y_test = train_test_split(X, y, test_size=0.1, random_state = 5, shuffle = True)"
   ]
  },
  {
   "cell_type": "code",
   "execution_count": 198,
   "id": "70c4f4b8",
   "metadata": {},
   "outputs": [
    {
     "data": {
      "text/plain": [
       "(135,)"
      ]
     },
     "execution_count": 198,
     "metadata": {},
     "output_type": "execute_result"
    }
   ],
   "source": [
    "X_train.shape"
   ]
  },
  {
   "cell_type": "markdown",
   "id": "e5b5ff57",
   "metadata": {},
   "source": [
    "### Training the model using stochastic gradient descent regressor"
   ]
  },
  {
   "cell_type": "code",
   "execution_count": 202,
   "id": "fbe5f2e5",
   "metadata": {},
   "outputs": [],
   "source": [
    "from sklearn.linear_model import SGDRegressor\n"
   ]
  },
  {
   "cell_type": "code",
   "execution_count": 210,
   "id": "1fd235bc",
   "metadata": {},
   "outputs": [
    {
     "data": {
      "text/plain": [
       "Pipeline(steps=[('standardscaler', StandardScaler()),\n",
       "                ('sgdregressor', SGDRegressor(max_iter=7408.0))])"
      ]
     },
     "execution_count": 210,
     "metadata": {},
     "output_type": "execute_result"
    }
   ],
   "source": [
    "## pipeline, fit \n",
    "\n",
    "from sklearn.pipeline import make_pipeline\n",
    "from sklearn.preprocessing import StandardScaler\n",
    "\n",
    "max_iter = np.ceil(10**6/ X_train.shape[0])\n",
    "\n",
    "reg = make_pipeline(StandardScaler(),\n",
    "                    SGDRegressor(max_iter=max_iter, tol=1e-3))\n",
    "\n",
    "reg.fit(X_train.reshape(-1,1), y_train)"
   ]
  },
  {
   "cell_type": "code",
   "execution_count": 235,
   "id": "884928bd",
   "metadata": {},
   "outputs": [
    {
     "name": "stdout",
     "output_type": "stream",
     "text": [
      "(L1 loss) mean_abs_error :  0.39\n",
      "(L2 loss) mean_squared_error :  0.21\n",
      "root_mean_squared_error :  0.46\n"
     ]
    }
   ],
   "source": [
    "## predict, score \n",
    "\n",
    "import sklearn.metrics as metrics\n",
    "\n",
    "y_pred = reg.predict(X_test.reshape(-1,1))\n",
    "\n",
    "mean_abs_error = metrics.mean_absolute_error(y_test, y_pred)\n",
    "mean_squared_error = metrics.mean_squared_error(y_test, y_pred)\n",
    "root_mean_squared_error = metrics.mean_squared_error(y_test, y_pred, squared = False)\n",
    "\n",
    "print(\"(L1 loss) mean_abs_error : \",mean_abs_error.round(2))   \n",
    "print(\"(L2 loss) mean_squared_error : \",mean_squared_error.round(2))\n",
    "print(\"root_mean_squared_error : \",root_mean_squared_error.round(2))"
   ]
  }
 ],
 "metadata": {
  "kernelspec": {
   "display_name": "Python 3 (ipykernel)",
   "language": "python",
   "name": "python3"
  },
  "language_info": {
   "codemirror_mode": {
    "name": "ipython",
    "version": 3
   },
   "file_extension": ".py",
   "mimetype": "text/x-python",
   "name": "python",
   "nbconvert_exporter": "python",
   "pygments_lexer": "ipython3",
   "version": "3.9.7"
  }
 },
 "nbformat": 4,
 "nbformat_minor": 5
}
